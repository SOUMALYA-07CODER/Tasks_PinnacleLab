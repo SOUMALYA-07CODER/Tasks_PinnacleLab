{
 "cells": [
  {
   "cell_type": "code",
   "execution_count": 4,
   "id": "2acd1fdb-992d-4278-8d81-51bb7da95e5f",
   "metadata": {},
   "outputs": [],
   "source": [
    "import nltk\n",
    "from nltk.corpus import words\n",
    "from nltk.metrics.distance import edit_distance\n"
   ]
  },
  {
   "cell_type": "code",
   "execution_count": 5,
   "id": "7257056b-e0ef-4d7a-af3a-e14dc0d8d683",
   "metadata": {},
   "outputs": [
    {
     "name": "stderr",
     "output_type": "stream",
     "text": [
      "[nltk_data] Downloading package words to\n",
      "[nltk_data]     C:\\Users\\souma\\AppData\\Roaming\\nltk_data...\n",
      "[nltk_data]   Package words is already up-to-date!\n"
     ]
    },
    {
     "data": {
      "text/plain": [
       "True"
      ]
     },
     "execution_count": 5,
     "metadata": {},
     "output_type": "execute_result"
    }
   ],
   "source": [
    "nltk.download('words')"
   ]
  },
  {
   "cell_type": "code",
   "execution_count": 6,
   "id": "47664d34-dcff-49b9-91f7-61fe490d9142",
   "metadata": {},
   "outputs": [
    {
     "name": "stdin",
     "output_type": "stream",
     "text": [
      "Enter a word (type 'exit' to stop):  camputer\n"
     ]
    },
    {
     "name": "stdout",
     "output_type": "stream",
     "text": [
      "Input Word: camputer\n",
      "Corrected Word: computer\n"
     ]
    },
    {
     "name": "stdin",
     "output_type": "stream",
     "text": [
      "Enter a word (type 'exit' to stop):  epple\n"
     ]
    },
    {
     "name": "stdout",
     "output_type": "stream",
     "text": [
      "Input Word: epple\n",
      "Corrected Word: apple\n"
     ]
    },
    {
     "name": "stdin",
     "output_type": "stream",
     "text": [
      "Enter a word (type 'exit' to stop):  exit\n"
     ]
    }
   ],
   "source": [
    "english_words = set(words.words())\n",
    "def auto_correct(word):\n",
    "    word = word.lower()  \n",
    "    if word in english_words:\n",
    "        return word\n",
    "    # Find the closest word using edit distance\n",
    "    min_distance = float('inf')\n",
    "    closest_word = None\n",
    "\n",
    "    for w in english_words:\n",
    "        distance = edit_distance(word, w)\n",
    "        if distance < min_distance:\n",
    "            min_distance = distance\n",
    "            closest_word = w\n",
    "    return closest_word\n",
    "while True:\n",
    "    input_word = input(\"Enter a word (type 'exit' to stop): \")\n",
    "\n",
    "    if input_word.lower() == 'exit':\n",
    "        break\n",
    "    corrected_word = auto_correct(input_word)\n",
    "    print(\"Input Word:\", input_word)\n",
    "    print(\"Corrected Word:\", corrected_word)"
   ]
  },
  {
   "cell_type": "code",
   "execution_count": null,
   "id": "49c38223-8912-42c4-a8f6-a9497d6d74bc",
   "metadata": {},
   "outputs": [],
   "source": []
  }
 ],
 "metadata": {
  "kernelspec": {
   "display_name": "Python 3 (ipykernel)",
   "language": "python",
   "name": "python3"
  },
  "language_info": {
   "codemirror_mode": {
    "name": "ipython",
    "version": 3
   },
   "file_extension": ".py",
   "mimetype": "text/x-python",
   "name": "python",
   "nbconvert_exporter": "python",
   "pygments_lexer": "ipython3",
   "version": "3.12.7"
  }
 },
 "nbformat": 4,
 "nbformat_minor": 5
}
