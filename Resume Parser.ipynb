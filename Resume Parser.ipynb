{
 "cells": [
  {
   "cell_type": "code",
   "execution_count": 1,
   "id": "5401a0d5-8fa6-497f-889a-20034e930385",
   "metadata": {},
   "outputs": [],
   "source": [
    "import nltk\n",
    "from nltk.tokenize import word_tokenize, sent_tokenize\n",
    "from nltk.corpus import stopwords\n",
    "from nltk.stem import WordNetLemmatizer"
   ]
  },
  {
   "cell_type": "code",
   "execution_count": 2,
   "id": "dbe9a171-6cad-4e1c-bc51-cc58d3afd130",
   "metadata": {},
   "outputs": [
    {
     "name": "stderr",
     "output_type": "stream",
     "text": [
      "[nltk_data] Downloading package punkt to\n",
      "[nltk_data]     C:\\Users\\souma\\AppData\\Roaming\\nltk_data...\n",
      "[nltk_data]   Package punkt is already up-to-date!\n",
      "[nltk_data] Downloading package punkt_tab to\n",
      "[nltk_data]     C:\\Users\\souma\\AppData\\Roaming\\nltk_data...\n",
      "[nltk_data]   Package punkt_tab is already up-to-date!\n",
      "[nltk_data] Downloading package stopwords to\n",
      "[nltk_data]     C:\\Users\\souma\\AppData\\Roaming\\nltk_data...\n",
      "[nltk_data]   Package stopwords is already up-to-date!\n",
      "[nltk_data] Downloading package wordnet to\n",
      "[nltk_data]     C:\\Users\\souma\\AppData\\Roaming\\nltk_data...\n",
      "[nltk_data]   Package wordnet is already up-to-date!\n"
     ]
    },
    {
     "data": {
      "text/plain": [
       "True"
      ]
     },
     "execution_count": 2,
     "metadata": {},
     "output_type": "execute_result"
    }
   ],
   "source": [
    "nltk.download('punkt')\n",
    "nltk.download('punkt_tab')\n",
    "nltk.download('stopwords')\n",
    "nltk.download('wordnet')"
   ]
  },
  {
   "cell_type": "code",
   "execution_count": 3,
   "id": "e6ce290f-8435-4c2a-a21d-d1c389f9fe10",
   "metadata": {},
   "outputs": [],
   "source": [
    "resume_text = \"\"\"\n",
    "[WISFLUX TECHLABS. (80+ employee software as a service based startup) Jaipur, Raj\n",
    "Software Engineer Intern Mar 2022 – July 2022\n",
    "▪︎ Contributed to a React based project using front-end and worked on UI content for the application.\n",
    "▪︎ Aggregated unstructured data from 20+ sources to build the user manual of a new product.\n",
    "MICROSOFT- FUTURE READY TALENT (Virtual Internship by AICTE) Remote\n",
    "Software Engineer Intern Aug 2022 – 2022\n",
    "▪︎ Deployed project responsive website with HTML, CSS, Javascript & Bootstrap on Azure Cloud, Microsoft Service Link\n",
    "THE SPARKS FOUNDATION (Singapore based internship platform) Remote\n",
    "1. Android Development Intern. Sept 2022 —Oct 2022\n",
    "▪︎ Constructed basic application for social media Link\n",
    "2. Data Science Intern\n",
    "▪︎ Developed Data Analysis of Business data analytics on a Sample Store as Business perspective.Link\n",
    "GOLDMAN SACHS VIRTUAL INTERNSHIP - by FORAGE. Aug 2022– Sep 2022\n",
    "▪︎Completed virtual internship by in domain of cybersecurity :Cryptography, Password Cracking, password best practices\n",
    "WORDPRESS DEVELOPER Freelance\n",
    "▪︎ Constructed WordPress for over 2 years with 1500+ views and 22 followers and reach of 2000.\n",
    "▪︎ Delivered a site for clients service startup on the PreMarital advice platform.\n",
    "AR CREATOR (Augment Reality based filters developer by Meta's SparkAR) Freelance\n",
    "▪︎ Deployed AR based filters on official handles of JECRC College page for Renaissance (Annual Techno-Cultural Fest) and\n",
    "Freshers Party and MUN official filter.\n",
    "▪︎ Selected as Official Campus Representative for Meta's SparkAR training campaign, made AR Game as Filter\n",
    "]\n",
    "\"\"\"\n"
   ]
  },
  {
   "cell_type": "code",
   "execution_count": 4,
   "id": "4bb7356c-2931-48c8-ac05-aa2d91f66562",
   "metadata": {},
   "outputs": [],
   "source": [
    "job_description = \"\"\"\n",
    "[0-3 years work experience Proficiency in Python, Spark, SQLDegree in data science, statistics, engineering, applied mathematics, operations research, information sciences, or another biological/physical science. Strength in code documentation Proficiency in Git and code versioning tools (Gitlab) Proficiency in Atlassian Suite such as JIRA and Confluence. Familiarity with cloud computing (AWS, Goolge Cloud preferred)Knowledge of statistics and machine learning (Computer Science/IT with good knowledge of Statistics)/ Analytics/ Data Science. Proficient in Python or R and other open source tools Relevant work experience of 0 to 4 years Intellectual curiosity and persistence to find answers to questions Eager to continuously learn and adapt to changing technologies and tools. Solid understanding of Statistics. Good aptitude for data analysis. Familiar with contemporary database systems]\n",
    "\"\"\"\n"
   ]
  },
  {
   "cell_type": "code",
   "execution_count": 5,
   "id": "ee9395e8-4e7a-42e0-b76f-5e2a0e2d57d9",
   "metadata": {},
   "outputs": [],
   "source": [
    "resume_tokens = word_tokenize(resume_text)\n",
    "resume_tokens = [token.lower() for token in resume_tokens if token.isalpha()]\n",
    "resume_tokens = [token for token in resume_tokens if token not in stopwords.words('english')]\n",
    "lemmatizer = WordNetLemmatizer()\n",
    "resume_tokens = [lemmatizer.lemmatize(token) for token in resume_tokens]"
   ]
  },
  {
   "cell_type": "code",
   "execution_count": 6,
   "id": "71177531-89f9-467e-a106-26e9ab432fab",
   "metadata": {},
   "outputs": [],
   "source": [
    "job_tokens = word_tokenize(job_description)\n",
    "job_tokens = [token.lower() for token in job_tokens if token.isalpha()]\n",
    "job_tokens = [token for token in job_tokens if token not in stopwords.words('english')]\n",
    "job_tokens = [lemmatizer.lemmatize(token) for token in job_tokens]"
   ]
  },
  {
   "cell_type": "code",
   "execution_count": 7,
   "id": "cdd10881-4e9b-49ab-b1f7-9ccacba63fda",
   "metadata": {},
   "outputs": [],
   "source": [
    "matching_keywords = set(resume_tokens) & set(job_tokens)"
   ]
  },
  {
   "cell_type": "code",
   "execution_count": 8,
   "id": "ad0aa539-0b15-4716-830f-ea984c16494b",
   "metadata": {
    "scrolled": true
   },
   "outputs": [
    {
     "name": "stdout",
     "output_type": "stream",
     "text": [
      "Matching Keywords:\n",
      "spark\n",
      "data\n",
      "cloud\n",
      "analysis\n",
      "science\n",
      "source\n",
      "year\n"
     ]
    }
   ],
   "source": [
    "print(\"Matching Keywords:\")\n",
    "for keyword in matching_keywords:\n",
    "    print(keyword)\n"
   ]
  },
  {
   "cell_type": "code",
   "execution_count": null,
   "id": "7ebcb0ee-a424-442b-94c7-4e314b9cdcf1",
   "metadata": {},
   "outputs": [],
   "source": []
  }
 ],
 "metadata": {
  "kernelspec": {
   "display_name": "Python 3 (ipykernel)",
   "language": "python",
   "name": "python3"
  },
  "language_info": {
   "codemirror_mode": {
    "name": "ipython",
    "version": 3
   },
   "file_extension": ".py",
   "mimetype": "text/x-python",
   "name": "python",
   "nbconvert_exporter": "python",
   "pygments_lexer": "ipython3",
   "version": "3.12.7"
  }
 },
 "nbformat": 4,
 "nbformat_minor": 5
}
