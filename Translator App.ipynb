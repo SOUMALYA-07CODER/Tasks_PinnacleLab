{
 "cells": [
  {
   "cell_type": "code",
   "execution_count": 3,
   "id": "0bce7a05-aa90-40d5-ac0a-81c055242454",
   "metadata": {},
   "outputs": [
    {
     "name": "stdout",
     "output_type": "stream",
     "text": [
      "Requirement already satisfied: googletrans==4.0.0-rc1 in c:\\users\\souma\\anaconda3\\lib\\site-packages (4.0.0rc1)\n",
      "Requirement already satisfied: httpx==0.13.3 in c:\\users\\souma\\anaconda3\\lib\\site-packages (from googletrans==4.0.0-rc1) (0.13.3)\n",
      "Requirement already satisfied: certifi in c:\\users\\souma\\anaconda3\\lib\\site-packages (from httpx==0.13.3->googletrans==4.0.0-rc1) (2024.8.30)\n",
      "Requirement already satisfied: hstspreload in c:\\users\\souma\\anaconda3\\lib\\site-packages (from httpx==0.13.3->googletrans==4.0.0-rc1) (2024.11.1)\n",
      "Requirement already satisfied: sniffio in c:\\users\\souma\\anaconda3\\lib\\site-packages (from httpx==0.13.3->googletrans==4.0.0-rc1) (1.3.0)\n",
      "Requirement already satisfied: chardet==3.* in c:\\users\\souma\\anaconda3\\lib\\site-packages (from httpx==0.13.3->googletrans==4.0.0-rc1) (3.0.4)\n",
      "Requirement already satisfied: idna==2.* in c:\\users\\souma\\anaconda3\\lib\\site-packages (from httpx==0.13.3->googletrans==4.0.0-rc1) (2.10)\n",
      "Requirement already satisfied: rfc3986<2,>=1.3 in c:\\users\\souma\\anaconda3\\lib\\site-packages (from httpx==0.13.3->googletrans==4.0.0-rc1) (1.5.0)\n",
      "Requirement already satisfied: httpcore==0.9.* in c:\\users\\souma\\anaconda3\\lib\\site-packages (from httpx==0.13.3->googletrans==4.0.0-rc1) (0.9.1)\n",
      "Requirement already satisfied: h11<0.10,>=0.8 in c:\\users\\souma\\anaconda3\\lib\\site-packages (from httpcore==0.9.*->httpx==0.13.3->googletrans==4.0.0-rc1) (0.9.0)\n",
      "Requirement already satisfied: h2==3.* in c:\\users\\souma\\anaconda3\\lib\\site-packages (from httpcore==0.9.*->httpx==0.13.3->googletrans==4.0.0-rc1) (3.2.0)\n",
      "Requirement already satisfied: hyperframe<6,>=5.2.0 in c:\\users\\souma\\anaconda3\\lib\\site-packages (from h2==3.*->httpcore==0.9.*->httpx==0.13.3->googletrans==4.0.0-rc1) (5.2.0)\n",
      "Requirement already satisfied: hpack<4,>=3.0 in c:\\users\\souma\\anaconda3\\lib\\site-packages (from h2==3.*->httpcore==0.9.*->httpx==0.13.3->googletrans==4.0.0-rc1) (3.0.0)\n"
     ]
    }
   ],
   "source": [
    "get_ipython().system('pip install googletrans==4.0.0-rc1')"
   ]
  },
  {
   "cell_type": "code",
   "execution_count": 4,
   "id": "380cc1bb-1048-4e8c-88fc-d457a7dd8aa5",
   "metadata": {},
   "outputs": [
    {
     "name": "stdout",
     "output_type": "stream",
     "text": [
      "Language Translator App\n",
      "Supported Languages:\n",
      "English: en, Spanish: es, French: fr, German: de, Hindi: hi, Chinese: zh-CN\n"
     ]
    },
    {
     "name": "stdin",
     "output_type": "stream",
     "text": [
      "Enter the source language code (e.g., en for English):  en\n",
      "Enter the destination language code (e.g., fr for French):  hi\n",
      "Enter the text to translate:  Hello\n"
     ]
    },
    {
     "name": "stdout",
     "output_type": "stream",
     "text": [
      "Translated Text:\n",
      "नमस्ते\n"
     ]
    }
   ],
   "source": [
    "from googletrans import Translator\n",
    "\n",
    "def translate_text(text, src_lang, dest_lang):\n",
    "    translator = Translator()\n",
    "    translation = translator.translate(text, src=src_lang, dest=dest_lang)\n",
    "    return translation.text\n",
    "\n",
    "def main():\n",
    "    print(\"Language Translator App\")\n",
    "    print(\"Supported Languages:\")\n",
    "    print(\"English: en, Spanish: es, French: fr, German: de, Hindi: hi, Chinese: zh-CN\")\n",
    "    \n",
    "    src_lang = input(\"Enter the source language code (e.g., en for English): \")\n",
    "    dest_lang = input(\"Enter the destination language code (e.g., fr for French): \")\n",
    "    text_to_translate = input(\"Enter the text to translate: \")\n",
    "\n",
    "    translated_text = translate_text(text_to_translate, src_lang, dest_lang)\n",
    "    print(\"Translated Text:\")\n",
    "    print(translated_text)\n",
    "\n",
    "if __name__ == \"__main__\":\n",
    "    main()"
   ]
  },
  {
   "cell_type": "code",
   "execution_count": null,
   "id": "b25863e9-71af-4ae0-8b16-d430e1aa19c4",
   "metadata": {},
   "outputs": [],
   "source": []
  }
 ],
 "metadata": {
  "kernelspec": {
   "display_name": "Python 3 (ipykernel)",
   "language": "python",
   "name": "python3"
  },
  "language_info": {
   "codemirror_mode": {
    "name": "ipython",
    "version": 3
   },
   "file_extension": ".py",
   "mimetype": "text/x-python",
   "name": "python",
   "nbconvert_exporter": "python",
   "pygments_lexer": "ipython3",
   "version": "3.12.7"
  }
 },
 "nbformat": 4,
 "nbformat_minor": 5
}
